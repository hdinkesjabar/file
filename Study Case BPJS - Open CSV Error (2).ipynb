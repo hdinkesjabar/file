{
  "metadata": {
    "kernelspec": {
      "name": "python",
      "display_name": "Python (Pyodide)",
      "language": "python"
    },
    "language_info": {
      "codemirror_mode": {
        "name": "python",
        "version": 3
      },
      "file_extension": ".py",
      "mimetype": "text/x-python",
      "name": "python",
      "nbconvert_exporter": "python",
      "pygments_lexer": "ipython3",
      "version": "3.8"
    }
  },
  "nbformat_minor": 5,
  "nbformat": 4,
  "cells": [
    {
      "id": "943dae14-71fd-4404-bf0d-e1d6aa805467",
      "cell_type": "markdown",
      "source": "# Membuka File CSV Yang Error\nBy: Aditya Hanif\n<br />\n<br />\nFile CSV di sini mengalami error karena didalamnya ada salah satu text mengandung special character sehingga tidak bisa dibaca oleh Python. Contohnya adalah karakter seperti di bawah ini",
      "metadata": {}
    },
    {
      "id": "a66db0a1-bd63-48eb-8170-2816866ed11f",
      "cell_type": "raw",
      "source": "xxS\u001aAx",
      "metadata": {}
    },
    {
      "id": "c3a24eb3-e813-4947-b340-47a2d24dd276",
      "cell_type": "markdown",
      "source": "## Import Library Yang Dibutuhkan",
      "metadata": {}
    },
    {
      "id": "7b87e6cd-1832-4661-a0ee-6af1ec2c3d84",
      "cell_type": "code",
      "source": "import pandas as pd\nimport numpy as np",
      "metadata": {},
      "outputs": [],
      "execution_count": 1
    },
    {
      "id": "c0f7a17b-4ffa-41f8-b133-2a31bd06bdb1",
      "cell_type": "markdown",
      "source": "## Buka File Menjadi CSV",
      "metadata": {}
    },
    {
      "id": "96c9108d-abd6-4602-bd35-df069244f8f0",
      "cell_type": "code",
      "source": "df = pd.read_csv(\n    \"Documents/Data Hanif/250501_DATA_BPJS_MEI_2025_BY_NAME.csv\")",
      "metadata": {},
      "outputs": [
        {
          "ename": "ParserError",
          "evalue": "Error tokenizing data. C error: Expected 1 fields in line 326, saw 2\n",
          "output_type": "error",
          "traceback": [
            "\u001b[0;31m---------------------------------------------------------------------------\u001b[0m",
            "\u001b[0;31mParserError\u001b[0m                               Traceback (most recent call last)",
            "Cell \u001b[0;32mIn[27], line 1\u001b[0m\n\u001b[0;32m----> 1\u001b[0m df \u001b[38;5;241m=\u001b[39m pd\u001b[38;5;241m.\u001b[39mread_csv(\n\u001b[1;32m      2\u001b[0m     \u001b[38;5;124m\"\u001b[39m\u001b[38;5;124mDocuments/Data Hanif/250501_DATA_BPJS_MEI_2025_BY_NAME.csv\u001b[39m\u001b[38;5;124m\"\u001b[39m)\n",
            "File \u001b[0;32m~/anaconda3/lib/python3.13/site-packages/pandas/io/parsers/readers.py:1026\u001b[0m, in \u001b[0;36mread_csv\u001b[0;34m(filepath_or_buffer, sep, delimiter, header, names, index_col, usecols, dtype, engine, converters, true_values, false_values, skipinitialspace, skiprows, skipfooter, nrows, na_values, keep_default_na, na_filter, verbose, skip_blank_lines, parse_dates, infer_datetime_format, keep_date_col, date_parser, date_format, dayfirst, cache_dates, iterator, chunksize, compression, thousands, decimal, lineterminator, quotechar, quoting, doublequote, escapechar, comment, encoding, encoding_errors, dialect, on_bad_lines, delim_whitespace, low_memory, memory_map, float_precision, storage_options, dtype_backend)\u001b[0m\n\u001b[1;32m   1013\u001b[0m kwds_defaults \u001b[38;5;241m=\u001b[39m _refine_defaults_read(\n\u001b[1;32m   1014\u001b[0m     dialect,\n\u001b[1;32m   1015\u001b[0m     delimiter,\n\u001b[0;32m   (...)\u001b[0m\n\u001b[1;32m   1022\u001b[0m     dtype_backend\u001b[38;5;241m=\u001b[39mdtype_backend,\n\u001b[1;32m   1023\u001b[0m )\n\u001b[1;32m   1024\u001b[0m kwds\u001b[38;5;241m.\u001b[39mupdate(kwds_defaults)\n\u001b[0;32m-> 1026\u001b[0m \u001b[38;5;28;01mreturn\u001b[39;00m _read(filepath_or_buffer, kwds)\n",
            "File \u001b[0;32m~/anaconda3/lib/python3.13/site-packages/pandas/io/parsers/readers.py:626\u001b[0m, in \u001b[0;36m_read\u001b[0;34m(filepath_or_buffer, kwds)\u001b[0m\n\u001b[1;32m    623\u001b[0m     \u001b[38;5;28;01mreturn\u001b[39;00m parser\n\u001b[1;32m    625\u001b[0m \u001b[38;5;28;01mwith\u001b[39;00m parser:\n\u001b[0;32m--> 626\u001b[0m     \u001b[38;5;28;01mreturn\u001b[39;00m parser\u001b[38;5;241m.\u001b[39mread(nrows)\n",
            "File \u001b[0;32m~/anaconda3/lib/python3.13/site-packages/pandas/io/parsers/readers.py:1923\u001b[0m, in \u001b[0;36mTextFileReader.read\u001b[0;34m(self, nrows)\u001b[0m\n\u001b[1;32m   1916\u001b[0m nrows \u001b[38;5;241m=\u001b[39m validate_integer(\u001b[38;5;124m\"\u001b[39m\u001b[38;5;124mnrows\u001b[39m\u001b[38;5;124m\"\u001b[39m, nrows)\n\u001b[1;32m   1917\u001b[0m \u001b[38;5;28;01mtry\u001b[39;00m:\n\u001b[1;32m   1918\u001b[0m     \u001b[38;5;66;03m# error: \"ParserBase\" has no attribute \"read\"\u001b[39;00m\n\u001b[1;32m   1919\u001b[0m     (\n\u001b[1;32m   1920\u001b[0m         index,\n\u001b[1;32m   1921\u001b[0m         columns,\n\u001b[1;32m   1922\u001b[0m         col_dict,\n\u001b[0;32m-> 1923\u001b[0m     ) \u001b[38;5;241m=\u001b[39m \u001b[38;5;28mself\u001b[39m\u001b[38;5;241m.\u001b[39m_engine\u001b[38;5;241m.\u001b[39mread(  \u001b[38;5;66;03m# type: ignore[attr-defined]\u001b[39;00m\n\u001b[1;32m   1924\u001b[0m         nrows\n\u001b[1;32m   1925\u001b[0m     )\n\u001b[1;32m   1926\u001b[0m \u001b[38;5;28;01mexcept\u001b[39;00m \u001b[38;5;167;01mException\u001b[39;00m:\n\u001b[1;32m   1927\u001b[0m     \u001b[38;5;28mself\u001b[39m\u001b[38;5;241m.\u001b[39mclose()\n",
            "File \u001b[0;32m~/anaconda3/lib/python3.13/site-packages/pandas/io/parsers/c_parser_wrapper.py:234\u001b[0m, in \u001b[0;36mCParserWrapper.read\u001b[0;34m(self, nrows)\u001b[0m\n\u001b[1;32m    232\u001b[0m \u001b[38;5;28;01mtry\u001b[39;00m:\n\u001b[1;32m    233\u001b[0m     \u001b[38;5;28;01mif\u001b[39;00m \u001b[38;5;28mself\u001b[39m\u001b[38;5;241m.\u001b[39mlow_memory:\n\u001b[0;32m--> 234\u001b[0m         chunks \u001b[38;5;241m=\u001b[39m \u001b[38;5;28mself\u001b[39m\u001b[38;5;241m.\u001b[39m_reader\u001b[38;5;241m.\u001b[39mread_low_memory(nrows)\n\u001b[1;32m    235\u001b[0m         \u001b[38;5;66;03m# destructive to chunks\u001b[39;00m\n\u001b[1;32m    236\u001b[0m         data \u001b[38;5;241m=\u001b[39m _concatenate_chunks(chunks)\n",
            "File \u001b[0;32mparsers.pyx:838\u001b[0m, in \u001b[0;36mpandas._libs.parsers.TextReader.read_low_memory\u001b[0;34m()\u001b[0m\n",
            "File \u001b[0;32mparsers.pyx:905\u001b[0m, in \u001b[0;36mpandas._libs.parsers.TextReader._read_rows\u001b[0;34m()\u001b[0m\n",
            "File \u001b[0;32mparsers.pyx:874\u001b[0m, in \u001b[0;36mpandas._libs.parsers.TextReader._tokenize_rows\u001b[0;34m()\u001b[0m\n",
            "File \u001b[0;32mparsers.pyx:891\u001b[0m, in \u001b[0;36mpandas._libs.parsers.TextReader._check_tokenize_status\u001b[0;34m()\u001b[0m\n",
            "File \u001b[0;32mparsers.pyx:2061\u001b[0m, in \u001b[0;36mpandas._libs.parsers.raise_parser_error\u001b[0;34m()\u001b[0m\n",
            "\u001b[0;31mParserError\u001b[0m: Error tokenizing data. C error: Expected 1 fields in line 326, saw 2\n"
          ]
        }
      ],
      "execution_count": 27
    },
    {
      "id": "8471e20e-0d0f-4b3b-8696-ae4a7beeeb45",
      "cell_type": "markdown",
      "source": "## Convert CSV ke XLSX\nKarena ternyata error saat membuka CSV, coba convert dulu ke XLSX",
      "metadata": {}
    },
    {
      "id": "4b4cd9f3-e2e6-40ba-9d4e-d2307f625b6e",
      "cell_type": "code",
      "source": "from openpyxl import Workbook\nimport csv",
      "metadata": {},
      "outputs": [],
      "execution_count": 2
    },
    {
      "id": "388d451c-2f07-4934-9017-90e9242515e9",
      "cell_type": "code",
      "source": "wb = Workbook()\nws = wb.active\nwith open('Documents/Data Hanif/250501_DATA_BPJS_MEI_2025_BY_NAME.csv', 'r', encoding=\"latin1\") as f:\n    for row in csv.reader(f):\n        ws.append(row)\nwb.save('Documents/Data Hanif/Mei.csv')",
      "metadata": {},
      "outputs": [],
      "execution_count": null
    },
    {
      "id": "48860927-72a1-4230-8c81-a606a247d81a",
      "cell_type": "raw",
      "source": "!!! ERROR MESSAGE !!!\n---------------------------------------------------------------------------\nIllegalCharacterError                     Traceback (most recent call last)\nCell In[28], line 5\n      3 with open('Documents/Data Hanif/250501_DATA_BPJS_MEI_2025_BY_NAME.csv', 'r', encoding=\"latin1\") as f:\n      4     for row in csv.reader(f):\n----> 5         ws.append(row)\n      6 wb.save('Documents/Data Hanif/Mei.csv')\n\nFile ~/anaconda3/lib/python3.13/site-packages/openpyxl/worksheet/worksheet.py:673, in Worksheet.append(self, iterable)\n    671             cell.row = row_idx\n    672         else:\n--> 673             cell = Cell(self, row=row_idx, column=col_idx, value=content)\n    674         self._cells[(row_idx, col_idx)] = cell\n    676 elif isinstance(iterable, dict):\n\nFile ~/anaconda3/lib/python3.13/site-packages/openpyxl/cell/cell.py:119, in Cell.__init__(self, worksheet, row, column, value, style_array)\n    117 self.data_type = 'n'\n    118 if value is not None:\n--> 119     self.value = value\n    120 self._comment = None\n\nFile ~/anaconda3/lib/python3.13/site-packages/openpyxl/cell/cell.py:218, in Cell.value(self, value)\n    215 @value.setter\n    216 def value(self, value):\n    217     \"\"\"Set the value and infer type and display options.\"\"\"\n--> 218     self._bind_value(value)\n\nFile ~/anaconda3/lib/python3.13/site-packages/openpyxl/cell/cell.py:197, in Cell._bind_value(self, value)\n    194         self.number_format = get_time_format(t)\n    196 elif dt == \"s\" and not isinstance(value, CellRichText):\n--> 197     value = self.check_string(value)\n    198     if len(value) > 1 and value.startswith(\"=\"):\n    199         self.data_type = 'f'\n\nFile ~/anaconda3/lib/python3.13/site-packages/openpyxl/cell/cell.py:165, in Cell.check_string(self, value)\n    163 value = value[:32767]\n    164 if next(ILLEGAL_CHARACTERS_RE.finditer(value), None):\n--> 165     raise IllegalCharacterError(f\"{value} cannot be used in worksheets.\")\n    166 return value\n\nIllegalCharacterError: 13806xxxxx|0001770xxxxx|0001770xxxxx|CIKxxxx|KAB. Bxxxxxxx|SExxxxx|xxS\u001aAx|1|19x-0x-0x|P|PUxxxxx|TAxxxxx|KAB. Bxxxxxxx|202xxxxx|3xxxxxxxxxx cannot be used in worksheets.",
      "metadata": {}
    },
    {
      "id": "78a8f68a-81d0-45ab-9a73-e8207f096980",
      "cell_type": "code",
      "source": "'''\nimport csv\nimport re\nfrom openpyxl import Workbook\n\n# regex untuk hapus karakter ilegal (ASCII 0-31 kecuali \\t, \\n, \\r)\nILLEGAL_CHARACTERS_RE = re.compile(r'[\\x00-\\x08\\x0b-\\x0c\\x0e-\\x1f]')\n\nwb = Workbook()\nws = wb.active\n\nwith open('Documents/Data Hanif/250501_DATA_BPJS_MEI_2025_BY_NAME.csv', 'r', encoding='latin1') as f:\n    reader = csv.reader(f, delimiter='|')  # pakai delimiter '|' kalau CSV pakai ini\n    for row in reader:\n        cleaned_row = [ILLEGAL_CHARACTERS_RE.sub(\"\", cell) for cell in row]\n        ws.append(cleaned_row)\n\nwb.save('Documents/Data Hanif/Mei.xlsx')\n'''",
      "metadata": {
        "jupyter": {
          "source_hidden": true
        }
      },
      "outputs": [],
      "execution_count": null
    },
    {
      "id": "0fa1ba33-d061-47a0-9b84-b967a6b1f7eb",
      "cell_type": "markdown",
      "source": "## Convert CSV ke XLSX Dengan Mengabaikan Character Error\nNamun proses convert diskip karena file terlalu besar, jadi kode di awal hanya untuk mendeteksi encoding, delimiter, dan jumlah baris.",
      "metadata": {}
    },
    {
      "id": "c62d1127-b34c-4966-b78b-e7c67a8320b6",
      "cell_type": "code",
      "source": "import csv\nimport re\nfrom openpyxl import Workbook\nfrom tqdm import tqdm  # pip install tqdm\nimport chardet         # pip install chardet\n\n# regex untuk hapus karakter ilegal (ASCII 0-31 kecuali tab/newline/carriage return)\nILLEGAL_CHARACTERS_RE = re.compile(r'[\\x00-\\x08\\x0b-\\x0c\\x0e-\\x1f]')\n\ninput_file = \"Documents/Data Hanif/250501_DATA_BPJS_MEI_2025_BY_NAME.csv\"\noutput_file = \"Documents/Data Hanif/Mei.xlsx\"\n\n# --- 1. Deteksi encoding otomatis ---\nwith open(input_file, \"rb\") as f:\n    raw_data = f.read(10000)  # baca sebagian (50KB) untuk deteksi\n    result = chardet.detect(raw_data)\n    encoding = result[\"encoding\"] or \"latin1\"\nprint(f\"🔍 Detected encoding: {encoding}\")\n\n# --- 2. Deteksi delimiter otomatis ---\nwith open(input_file, \"r\", encoding=encoding, errors=\"replace\") as f:\n    sample = f.read(2048)\n    dialect = csv.Sniffer().sniff(sample, delimiters=[\",\", \"|\"])\n    delimiter = dialect.delimiter\nprint(f\"🔍 Detected delimiter: '{delimiter}'\")\n\n# --- 3. Hitung total baris untuk progress ---\nwith open(input_file, \"r\", encoding=encoding, errors=\"replace\") as f:\n    total_lines = sum(1 for _ in f)\n\nprint(f\"🔍 Total Lines: '{total_lines}'\")\n\n'''\n# --- 4. Proses CSV dan simpan ke Excel ---\nwb = Workbook()\nws = wb.active\n\nwith open(input_file, \"r\", encoding=encoding, errors=\"replace\") as f:\n    reader = csv.reader(f, delimiter=delimiter)\n    for row in tqdm(reader, total=total_lines, desc=\"Memproses data\"):\n        cleaned_row = [ILLEGAL_CHARACTERS_RE.sub(\"\", cell) for cell in row]\n        ws.append(cleaned_row)\n\nwb.save(output_file)\nprint(f\"✅ Proses selesai! File berhasil disimpan di: {output_file}\")\n'''",
      "metadata": {
        "scrolled": true
      },
      "outputs": [
        {
          "name": "stdout",
          "output_type": "stream",
          "text": "🔍 Detected encoding: ascii\n,🔍 Detected delimiter: '|'\n,🔍 Total Lines: '16202898'\n"
        },
        {
          "data": {
            "text/plain": [
              "'\\n# --- 4. Proses CSV dan simpan ke Excel ---\\nwb = Workbook()\\nws = wb.active\\n\\nwith open(input_file, \"r\", encoding=encoding, errors=\"replace\") as f:\\n    reader = csv.reader(f, delimiter=delimiter)\\n    for row in tqdm(reader, total=total_lines, desc=\"Memproses data\"):\\n        cleaned_row = [ILLEGAL_CHARACTERS_RE.sub(\"\", cell) for cell in row]\\n        ws.append(cleaned_row)\\n\\nwb.save(output_file)\\nprint(f\"✅ Proses selesai! File berhasil disimpan di: {output_file}\")\\n'"
            ]
          },
          "execution_count": 4,
          "metadata": {},
          "output_type": "execute_result"
        }
      ],
      "execution_count": 4
    },
    {
      "id": "50c4c0aa-f6fc-4896-8abd-38db568197ec",
      "cell_type": "markdown",
      "source": "## Buka CSV Dengan Mengabaikan Baris Rusak",
      "metadata": {}
    },
    {
      "id": "bcc6e168-18e8-4da8-b756-830274cf877a",
      "cell_type": "code",
      "source": "# coba dengan utf-8 (paling umum)\ndf = pd.read_csv(\n    \"Documents/Data Hanif/250501_DATA_BPJS_MEI_2025_BY_NAME.csv\", \n    sep=\"|\", \n    encoding=\"utf-8\", \n    on_bad_lines=\"skip\"   # kalau ada baris rusak, dilewati\n)\ndf.head(10)",
      "metadata": {},
      "outputs": [],
      "execution_count": null
    },
    {
      "id": "156fb911-923a-44f9-9c36-8384d6d2a51b",
      "cell_type": "code",
      "source": "df.info()",
      "metadata": {},
      "outputs": [
        {
          "name": "stdout",
          "output_type": "stream",
          "text": "<class 'pandas.core.frame.DataFrame'>\n,RangeIndex: 16202897 entries, 0 to 16202896\n,Data columns (total 15 columns):\n, #   Column                 Dtype  \n,---  ------                 -----  \n, 0   kepwil_id              int64  \n, 1   kepwil_psnoka          int64  \n, 2   kepwil_noka            int64  \n, 3   kepwil_kcfaskes        object \n, 4   kepwil_dati2faskes     object \n, 5   kepwil_nmppk           object \n, 6   kepwil_nama            object \n, 7   kepwil_jenkel          int64  \n, 8   kepwil_tgllhr          object \n, 9   kepwil_pisa            object \n, 10  kepwil_nmdesa          object \n, 11  kepwil_nmkec           object \n, 12  kepwil_nmdati2_alamat  object \n, 13  kepwil_tgl_proses      object \n, 14  kepwil_nik             float64\n,dtypes: float64(1), int64(4), object(10)\n,memory usage: 1.8+ GB\n"
        }
      ],
      "execution_count": 20
    },
    {
      "id": "7a54f81f-a429-4754-9d77-f26d89e594e1",
      "cell_type": "code",
      "source": "df.shape",
      "metadata": {},
      "outputs": [
        {
          "data": {
            "text/plain": [
              "(16202897, 15)"
            ]
          },
          "execution_count": 18,
          "metadata": {},
          "output_type": "execute_result"
        }
      ],
      "execution_count": 18
    },
    {
      "id": "90616e36-5079-4cf5-8b1a-4ef0c1a424aa",
      "cell_type": "code",
      "source": "df[df.duplicated('kepwil_nik')].shape",
      "metadata": {},
      "outputs": [
        {
          "data": {
            "text/plain": [
              "(16751, 15)"
            ]
          },
          "execution_count": 25,
          "metadata": {},
          "output_type": "execute_result"
        }
      ],
      "execution_count": 25
    },
    {
      "id": "60088620-9d9c-430f-b50b-cd66230bd7ba",
      "cell_type": "code",
      "source": "df[df.duplicated('kepwil_psnoka')].shape",
      "metadata": {},
      "outputs": [
        {
          "data": {
            "text/plain": [
              "(0, 15)"
            ]
          },
          "execution_count": 16,
          "metadata": {},
          "output_type": "execute_result"
        }
      ],
      "execution_count": 16
    },
    {
      "id": "92ce7865-08c4-4c0c-8e35-e6a216cdda43",
      "cell_type": "code",
      "source": "df[df.duplicated('kepwil_psnoka')].head(10)",
      "metadata": {},
      "outputs": [
        {
          "data": {
            "text/html": [
              "<div>\n",
              "<style scoped>\n",
              "    .dataframe tbody tr th:only-of-type {\n",
              "        vertical-align: middle;\n",
              "    }\n",
              "\n",
              "    .dataframe tbody tr th {\n",
              "        vertical-align: top;\n",
              "    }\n",
              "\n",
              "    .dataframe thead th {\n",
              "        text-align: right;\n",
              "    }\n",
              "</style>\n",
              "<table border=\"1\" class=\"dataframe\">\n",
              "  <thead>\n",
              "    <tr style=\"text-align: right;\">\n",
              "      <th></th>\n",
              "      <th>kepwil_id</th>\n",
              "      <th>kepwil_psnoka</th>\n",
              "      <th>kepwil_noka</th>\n",
              "      <th>kepwil_kcfaskes</th>\n",
              "      <th>kepwil_dati2faskes</th>\n",
              "      <th>kepwil_nmppk</th>\n",
              "      <th>kepwil_nama</th>\n",
              "      <th>kepwil_jenkel</th>\n",
              "      <th>kepwil_tgllhr</th>\n",
              "      <th>kepwil_pisa</th>\n",
              "      <th>kepwil_nmdesa</th>\n",
              "      <th>kepwil_nmkec</th>\n",
              "      <th>kepwil_nmdati2_alamat</th>\n",
              "      <th>kepwil_tgl_proses</th>\n",
              "      <th>kepwil_nik</th>\n",
              "    </tr>\n",
              "  </thead>\n",
              "  <tbody>\n",
              "  </tbody>\n",
              "</table>\n",
              "</div>"
            ],
            "text/plain": [
              "Empty DataFrame\n",
              "Columns: [kepwil_id, kepwil_psnoka, kepwil_noka, kepwil_kcfaskes, kepwil_dati2faskes, kepwil_nmppk, kepwil_nama, kepwil_jenkel, kepwil_tgllhr, kepwil_pisa, kepwil_nmdesa, kepwil_nmkec, kepwil_nmdati2_alamat, kepwil_tgl_proses, kepwil_nik]\n",
              "Index: []"
            ]
          },
          "execution_count": 17,
          "metadata": {},
          "output_type": "execute_result"
        }
      ],
      "execution_count": 17
    }
  ]
}